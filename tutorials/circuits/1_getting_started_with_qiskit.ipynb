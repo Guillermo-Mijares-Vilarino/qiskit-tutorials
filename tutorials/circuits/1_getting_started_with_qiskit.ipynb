{
 "cells": [
  {
   "cell_type": "markdown",
   "metadata": {},
   "source": [
    "# Getting Started with Qiskit\n",
    "\n",
    "In this tutorial you will go through an overview of working with Qiskit.  The fundamental package of Qiskit is Terra that provides the basic building blocks necessary to program quantum computers. The fundamental unit of Qiskit is the [quantum circuit](https://en.wikipedia.org/wiki/Quantum_circuit). A basic workflow using Qiskit consists of the following stages: \n",
    "\n",
    "* **Build**: Create different quantum circuits that represent the problem you are solving.\n",
    "* **Compile**: Adapt the circuit to the specifications of the backend you want to use.\n",
    "* **Run**: Run the compiled circuit on different backends. They can be cloud-based or local.\n",
    "* **Analyze**: Visualize the results of the experiment or check statistics related to them."
   ]
  },
  {
   "cell_type": "markdown",
   "metadata": {},
   "source": [
    "## Build the circuit <a name='build'></a>\n",
    "\n",
    "The basic element needed for your first program is the QuantumCircuit.  We begin by creating a `QuantumCircuit` comprised of three qubits and three classical bits."
   ]
  },
  {
   "cell_type": "code",
   "execution_count": 1,
   "metadata": {
    "ExecuteTime": {
     "end_time": "2021-07-31T05:04:39.030564Z",
     "start_time": "2021-07-31T05:04:39.028024Z"
    }
   },
   "outputs": [],
   "source": [
    "from qiskit import QuantumCircuit\n",
    "\n",
    "# Create a Quantum Circuit acting on a quantum register of three qubits and three classical bits\n",
    "qc = QuantumCircuit(3, 3)"
   ]
  },
  {
   "cell_type": "markdown",
   "metadata": {},
   "source": [
    "After you create the circuit with its registers, you can add gates (\"operations\") to manipulate the registers. As you proceed through the tutorials you will find more gates and circuits; below is an example of a quantum circuit that makes a three-qubit [Greenberger-Horne-Zeilinger](https://en.wikipedia.org/wiki/Greenberger%E2%80%93Horne%E2%80%93Zeilinger_state) (GHZ) state\n",
    "\n",
    "$$|\\psi\\rangle = \\left(|000\\rangle+|111\\rangle\\right)/\\sqrt{2}.$$\n",
    "\n",
    "To create such a state, we start with a three-qubit quantum register. By default, each qubit in the register is initialized to $|0\\rangle$. To make the GHZ state, we apply the following gates:\n",
    "- A Hadamard gate $H$ on qubit 0, which puts it into the superposition state $\\left(|0\\rangle+|1\\rangle\\right)/\\sqrt{2}$.\n",
    "- A controlled-Not operation ($C_{X}$) between qubit 0 and qubit 1.\n",
    "- A controlled-Not operation between qubit 0 and qubit 2.\n",
    "\n",
    "On an ideal quantum computer, the state produced by running this circuit would be the GHZ state above.\n",
    "\n",
    "In Qiskit, operations can be added to the circuit one by one, as shown below."
   ]
  },
  {
   "cell_type": "code",
   "execution_count": 2,
   "metadata": {
    "ExecuteTime": {
     "end_time": "2021-07-31T05:04:39.584692Z",
     "start_time": "2021-07-31T05:04:39.573755Z"
    }
   },
   "outputs": [
    {
     "data": {
      "text/plain": [
       "<qiskit.circuit.instructionset.InstructionSet at 0x7fe57064c5c0>"
      ]
     },
     "execution_count": 2,
     "metadata": {},
     "output_type": "execute_result"
    }
   ],
   "source": [
    "# Add a H gate on qubit 0, putting this qubit in superposition.\n",
    "qc.h(0)\n",
    "# Add a CX (CNOT) gate on control qubit 0 and target qubit 1, putting\n",
    "# the qubits in a Bell state.\n",
    "qc.cx(0, 1)\n",
    "# Add a CX (CNOT) gate on control qubit 0 and target qubit 2, putting\n",
    "# the qubits in a GHZ state.\n",
    "qc.cx(0, 2)"
   ]
  },
  {
   "cell_type": "markdown",
   "metadata": {},
   "source": [
    "For more information about the quantum gates available in Qiskit, check the [Circuit Library](https://qiskit.org/documentation/apidoc/circuit_library.html)."
   ]
  },
  {
   "cell_type": "markdown",
   "metadata": {},
   "source": [
    "A real experiment terminates by _measuring_ each qubit (usually in the computational $|0\\rangle, |1\\rangle$ basis). Without measurement, we cannot gain information about the state. Measurements cause the quantum system to collapse into classical bits. \n",
    "\n",
    "For example, suppose we make independent measurements on each qubit of the three-qubit GHZ state\n",
    "\n",
    "$$|\\psi\\rangle = (|000\\rangle +|111\\rangle)/\\sqrt{2},$$\n",
    "\n",
    "and let $xyz$ denote the bitstring that results. Under the qubit labeling used by Qiskit, $x$ would correspond to the outcome on qubit 2, $y$ to the outcome on qubit 1, and $z$ to the outcome on qubit 0. \n",
    "\n",
    "<div class=\"alert alert-block alert-info\">\n",
    "<b>Note:</b> This representation of the bitstring puts the most significant bit (MSB) on the left, and the least significant bit (LSB) on the right. This is the standard ordering of binary bitstrings. We order the qubits in the same way (qubit representing the MSB has index 0), which is why Qiskit uses a non-standard tensor product order. \n",
    "</div>\n",
    "\n",
    "Recall the probability of obtaining outcome $xyz$ is given by\n",
    "\n",
    "$$\\mathrm{Pr}(xyz) = |\\langle xyz | \\psi \\rangle |^{2}$$\n",
    "\n",
    "and as such for the GHZ state probability of obtaining 000 or 111 are both 1/2.\n",
    "\n",
    "In order to measure the qubits on our circuit, you can use the `circuit.measure(qubits, clbits)` method to map the result of the qubits into the classical bits.\n"
   ]
  },
  {
   "cell_type": "code",
   "execution_count": 3,
   "metadata": {},
   "outputs": [
    {
     "data": {
      "text/plain": [
       "<qiskit.circuit.instructionset.InstructionSet at 0x7fe57064fb80>"
      ]
     },
     "execution_count": 3,
     "metadata": {},
     "output_type": "execute_result"
    }
   ],
   "source": [
    "# add a (visual) barrier to separate the measures\n",
    "qc.barrier(range(3))\n",
    "# map the quantum measurement to the classical bits\n",
    "qc.measure(range(3), range(3))\n"
   ]
  },
  {
   "cell_type": "markdown",
   "metadata": {},
   "source": [
    "## Visualize the circuit <a name='visualize'></a>\n",
    "\n",
    "You can visualize your circuit using Qiskit `QuantumCircuit.draw()`, which plots the circuit in the form found in many textbooks."
   ]
  },
  {
   "cell_type": "code",
   "execution_count": 4,
   "metadata": {},
   "outputs": [
    {
     "data": {
      "text/html": [
       "<pre style=\"word-wrap: normal;white-space: pre;background: #fff0;line-height: 1.1;font-family: &quot;Courier New&quot;,Courier,monospace\">     ┌───┐           ░ ┌─┐      \n",
       "q_0: ┤ H ├──■────■───░─┤M├──────\n",
       "     └───┘┌─┴─┐  │   ░ └╥┘┌─┐   \n",
       "q_1: ─────┤ X ├──┼───░──╫─┤M├───\n",
       "          └───┘┌─┴─┐ ░  ║ └╥┘┌─┐\n",
       "q_2: ──────────┤ X ├─░──╫──╫─┤M├\n",
       "               └───┘ ░  ║  ║ └╥┘\n",
       "c: 3/═══════════════════╩══╩══╩═\n",
       "                        0  1  2 </pre>"
      ],
      "text/plain": [
       "     ┌───┐           ░ ┌─┐      \n",
       "q_0: ┤ H ├──■────■───░─┤M├──────\n",
       "     └───┘┌─┴─┐  │   ░ └╥┘┌─┐   \n",
       "q_1: ─────┤ X ├──┼───░──╫─┤M├───\n",
       "          └───┘┌─┴─┐ ░  ║ └╥┘┌─┐\n",
       "q_2: ──────────┤ X ├─░──╫──╫─┤M├\n",
       "               └───┘ ░  ║  ║ └╥┘\n",
       "c: 3/═══════════════════╩══╩══╩═\n",
       "                        0  1  2 "
      ]
     },
     "execution_count": 4,
     "metadata": {},
     "output_type": "execute_result"
    }
   ],
   "source": [
    "qc.draw()"
   ]
  },
  {
   "cell_type": "markdown",
   "metadata": {},
   "source": [
    "If you want the plot given by `QuantumCircuit.draw()` to look better, you can use Matplotlib by setting the optional argument `output` to `mpl`. Given that the first argument of this method is precisely `output`, you can write `QuantumCircuit.draw('mpl')` instead of `QuantumCircuit.draw(output = 'mpl')`."
   ]
  },
  {
   "cell_type": "code",
   "execution_count": 5,
   "metadata": {
    "ExecuteTime": {
     "end_time": "2021-07-31T05:04:40.867948Z",
     "start_time": "2021-07-31T05:04:40.271129Z"
    },
    "scrolled": true,
    "tags": [
     "nbsphinx-thumbnail"
    ]
   },
   "outputs": [
    {
     "data": {
      "image/png": "[encoded data removed]",
      "text/plain": [
       "<Figure size 507.997x264.88 with 1 Axes>"
      ]
     },
     "execution_count": 5,
     "metadata": {},
     "output_type": "execute_result"
    }
   ],
   "source": [
    "qc.draw('mpl')"
   ]
  },
  {
   "cell_type": "markdown",
   "metadata": {},
   "source": [
    "In this circuit, the qubits are put in order, with qubit zero (least significant) at the top and qubit two (most significant) at the bottom. The circuit is read left to right (meaning that gates that are applied earlier in the circuit show up further to the left)."
   ]
  },
  {
   "cell_type": "markdown",
   "metadata": {},
   "source": [
    "If you prefer to have the most significant qubits represented at the top, like in most physics textbooks, instead of at the bottom, you can set the `reverse_bits` argument of `QuantumCircuit.draw()` to `True`."
   ]
  },
  {
   "cell_type": "code",
   "execution_count": 6,
   "metadata": {},
   "outputs": [
    {
     "data": {
      "image/png": "[encoded data removed]",
      "text/plain": [
       "<Figure size 507.997x264.88 with 1 Axes>"
      ]
     },
     "execution_count": 6,
     "metadata": {},
     "output_type": "execute_result"
    }
   ],
   "source": [
    "qc.draw(\"mpl\", reverse_bits = True)"
   ]
  },
  {
   "cell_type": "markdown",
   "metadata": {},
   "source": [
    "## Simulate the circuit using Qiskit Aer <a name='simulation'></a>\n",
    "\n",
    "In this example, you will run the circuit on a simulator. In order to do this, you will use our simulation package, Qiskit Aer. It provides many different backends for different simulation goals. If you have any issues installing `Aer`, there is also a basic, Python only, implementation called `BasicAer` in Terra.\n",
    "\n",
    "You can view the available backends using `Aer.backends()`"
   ]
  },
  {
   "cell_type": "code",
   "execution_count": 7,
   "metadata": {},
   "outputs": [
    {
     "data": {
      "text/plain": [
       "[AerSimulator('aer_simulator'),\n",
       " AerSimulator('aer_simulator_statevector'),\n",
       " AerSimulator('aer_simulator_density_matrix'),\n",
       " AerSimulator('aer_simulator_stabilizer'),\n",
       " AerSimulator('aer_simulator_matrix_product_state'),\n",
       " AerSimulator('aer_simulator_extended_stabilizer'),\n",
       " AerSimulator('aer_simulator_unitary'),\n",
       " AerSimulator('aer_simulator_superop'),\n",
       " QasmSimulator('qasm_simulator'),\n",
       " StatevectorSimulator('statevector_simulator'),\n",
       " UnitarySimulator('unitary_simulator'),\n",
       " PulseSimulator('pulse_simulator')]"
      ]
     },
     "execution_count": 7,
     "metadata": {},
     "output_type": "execute_result"
    }
   ],
   "source": [
    "from qiskit import Aer\n",
    "\n",
    "Aer.backends()"
   ]
  },
  {
   "cell_type": "markdown",
   "metadata": {},
   "source": [
    "If you want more information on the different backends, check the [API reference](https://qiskit.org/documentation/apidoc/aer_provider.html)."
   ]
  },
  {
   "cell_type": "markdown",
   "metadata": {},
   "source": [
    "The main simulator backend of the Aer provider is the `AerSimulator` backend. Its default behavior is to mimic the execution of an actual device, so, if your `QuantumCircuit` contains measures (like this example does), you will get a count dictionary containing the final values of any classical register in the circuit. To run the above circuit using this simulator, you need to set the backend to `aer_simulator`."
   ]
  },
  {
   "cell_type": "code",
   "execution_count": 8,
   "metadata": {
    "ExecuteTime": {
     "end_time": "2021-07-31T05:04:43.436320Z",
     "start_time": "2021-07-31T05:04:43.290274Z"
    }
   },
   "outputs": [],
   "source": [
    "# Import Aer\n",
    "from qiskit import Aer\n",
    "\n",
    "# Run the quantum circuit on Aer simulator backend\n",
    "backend = Aer.get_backend('aer_simulator')"
   ]
  },
  {
   "cell_type": "markdown",
   "metadata": {},
   "source": [
    "Now that we have chosen the backend, it's time to compile and run the quantum circuit. In Qiskit we provide the `transpile` function for the former and the `backend.run(circuit)` method for the latter. It returns a ``job`` object that encapsulates information about the job submitted to the backend.\n",
    "\n",
    "\n",
    "<div class=\"alert alert-block alert-info\">\n",
    "<b>Tip:</b> You can obtain the above parameters in Jupyter. Simply place the text cursor on a function and press Shift+Tab.\n",
    "</div>"
   ]
  },
  {
   "cell_type": "markdown",
   "metadata": {},
   "source": [
    "Each run of this circuit will yield either the bitstring 000 or 111. To build up statistics about the distribution of the bitstrings (to, e.g., estimate $\\mathrm{Pr}(000)$), we need to repeat the circuit many times. The number of times the circuit is repeated can be specified in the `run` method, via the ``shots`` keyword."
   ]
  },
  {
   "cell_type": "code",
   "execution_count": 9,
   "metadata": {
    "ExecuteTime": {
     "end_time": "2021-07-31T05:04:44.311305Z",
     "start_time": "2021-07-31T05:04:44.306416Z"
    }
   },
   "outputs": [],
   "source": [
    "from qiskit import transpile\n",
    "\n",
    "# Compile the circuit according to the backend \n",
    "# This is not needed for simple circuits\n",
    "transpiled_qc = transpile(qc, backend)\n",
    "\n",
    "# Create a Quantum Program for execution \n",
    "job = backend.run(transpiled_qc, shots = 1000)"
   ]
  },
  {
   "cell_type": "markdown",
   "metadata": {},
   "source": [
    "When you run a program, a job object is made that has the following two useful methods: \n",
    "`job.status()` and `job.result()`, which return the status of the job and a result object, respectively.\n",
    "\n",
    "<div class=\"alert alert-block alert-info\">\n",
    "<b>Note:</b> Jobs run asynchronously, but when the result method is called, it switches to synchronous and waits for it to finish before moving on to another task.\n",
    "</div>"
   ]
  },
  {
   "cell_type": "code",
   "execution_count": 10,
   "metadata": {
    "ExecuteTime": {
     "end_time": "2021-07-31T05:04:45.848031Z",
     "start_time": "2021-07-31T05:04:45.844758Z"
    }
   },
   "outputs": [],
   "source": [
    "result = job.result()"
   ]
  },
  {
   "cell_type": "markdown",
   "metadata": {},
   "source": [
    "Once you have a result object, you can access the counts via the method `get_counts(circuit)`. This gives you the _aggregated_ binary outcomes of the circuit you submitted."
   ]
  },
  {
   "cell_type": "code",
   "execution_count": 11,
   "metadata": {
    "ExecuteTime": {
     "end_time": "2021-07-31T05:06:24.587309Z",
     "start_time": "2021-07-31T05:06:24.583432Z"
    }
   },
   "outputs": [
    {
     "name": "stdout",
     "output_type": "stream",
     "text": [
      "{'000': 476, '111': 524}\n"
     ]
    }
   ],
   "source": [
    "counts = result.get_counts(transpiled_qc)\n",
    "print(counts)"
   ]
  },
  {
   "cell_type": "markdown",
   "metadata": {},
   "source": [
    "Approximately 50 percent of the time, the output bitstring is 000. Qiskit also provides a function `plot_histogram`, which allows you to view the outcomes. "
   ]
  },
  {
   "cell_type": "code",
   "execution_count": 12,
   "metadata": {
    "ExecuteTime": {
     "end_time": "2021-07-31T05:06:26.146850Z",
     "start_time": "2021-07-31T05:06:26.028680Z"
    }
   },
   "outputs": [
    {
     "data": {
      "image/png": "[encoded data removed]",
      "text/plain": [
       "<Figure size 504x360 with 1 Axes>"
      ]
     },
     "execution_count": 12,
     "metadata": {},
     "output_type": "execute_result"
    }
   ],
   "source": [
    "from qiskit.visualization import plot_histogram\n",
    "\n",
    "plot_histogram(counts)"
   ]
  },
  {
   "cell_type": "markdown",
   "metadata": {},
   "source": [
    "The estimated outcome probabilities $\\mathrm{Pr}(000)$ and  $\\mathrm{Pr}(111)$ are computed by taking the aggregate counts and dividing by the number of shots (times the circuit was repeated). Try changing the ``shots`` keyword in the ``run`` method and see how the estimated probabilities change."
   ]
  },
  {
   "cell_type": "markdown",
   "metadata": {},
   "source": [
    "**Now you are able to create, visualize and simulate quantum circuits with Qiskit!**"
   ]
  },
  {
   "cell_type": "code",
   "execution_count": 13,
   "metadata": {
    "ExecuteTime": {
     "end_time": "2021-07-31T05:06:28.643646Z",
     "start_time": "2021-07-31T05:06:27.732825Z"
    }
   },
   "outputs": [
    {
     "data": {
      "text/html": [
       "<h3>Version Information</h3><table><tr><th>Qiskit Software</th><th>Version</th></tr><tr><td><code>qiskit-terra</code></td><td>0.20.2</td></tr><tr><td><code>qiskit-aer</code></td><td>0.10.4</td></tr><tr><td><code>qiskit-ignis</code></td><td>0.7.1</td></tr><tr><td><code>qiskit-ibmq-provider</code></td><td>0.19.1</td></tr><tr><td><code>qiskit</code></td><td>0.36.2</td></tr><tr><td><code>qiskit-machine-learning</code></td><td>0.4.0</td></tr><tr><th>System information</th></tr><tr><td>Python version</td><td>3.10.4</td></tr><tr><td>Python compiler</td><td>Clang 12.0.0 </td></tr><tr><td>Python build</td><td>main, Mar 31 2022 03:38:35</td></tr><tr><td>OS</td><td>Darwin</td></tr><tr><td>CPUs</td><td>8</td></tr><tr><td>Memory (Gb)</td><td>32.0</td></tr><tr><td colspan='2'>Wed Jul 13 16:35:49 2022 CEST</td></tr></table>"
      ],
      "text/plain": [
       "<IPython.core.display.HTML object>"
      ]
     },
     "metadata": {},
     "output_type": "display_data"
    },
    {
     "data": {
      "text/html": [
       "<div style='width: 100%; background-color:#d5d9e0;padding-left: 10px; padding-bottom: 10px; padding-right: 10px; padding-top: 5px'><h3>This code is a part of Qiskit</h3><p>&copy; Copyright IBM 2017, 2022.</p><p>This code is licensed under the Apache License, Version 2.0. You may<br>obtain a copy of this license in the LICENSE.txt file in the root directory<br> of this source tree or at http://www.apache.org/licenses/LICENSE-2.0.<p>Any modifications or derivative works of this code must retain this<br>copyright notice, and modified files need to carry a notice indicating<br>that they have been altered from the originals.</p></div>"
      ],
      "text/plain": [
       "<IPython.core.display.HTML object>"
      ]
     },
     "metadata": {},
     "output_type": "display_data"
    }
   ],
   "source": [
    "import qiskit.tools.jupyter\n",
    "%qiskit_version_table\n",
    "%qiskit_copyright"
   ]
  }
 ],
 "metadata": {
  "anaconda-cloud": {},
  "celltoolbar": "Tags",
  "kernelspec": {
   "display_name": "Python 3.10.4 ('qiskit-ml-dev')",
   "language": "python",
   "name": "python3"
  },
  "language_info": {
   "codemirror_mode": {
    "name": "ipython",
    "version": 3
   },
   "file_extension": ".py",
   "mimetype": "text/x-python",
   "name": "python",
   "nbconvert_exporter": "python",
   "pygments_lexer": "ipython3",
   "version": "3.10.4"
  },
  "varInspector": {
   "cols": {
    "lenName": 16,
    "lenType": 16,
    "lenVar": 40
   },
   "kernels_config": {
    "python": {
     "delete_cmd_postfix": "",
     "delete_cmd_prefix": "del ",
     "library": "var_list.py",
     "varRefreshCmd": "print(var_dic_list())"
    },
    "r": {
     "delete_cmd_postfix": ") ",
     "delete_cmd_prefix": "rm(",
     "library": "var_list.r",
     "varRefreshCmd": "cat(var_dic_list()) "
    }
   },
   "types_to_exclude": [
    "module",
    "function",
    "builtin_function_or_method",
    "instance",
    "_Feature"
   ],
   "window_display": false
  },
  "vscode": {
   "interpreter": {
    "hash": "451ffb4408e6e77f973f6a4d8f802b105ecf7622cad495095d457e3fe493900a"
   }
  }
 },
 "nbformat": 4,
 "nbformat_minor": 1
}
